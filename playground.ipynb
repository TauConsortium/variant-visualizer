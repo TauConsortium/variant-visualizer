{
 "cells": [
  {
   "cell_type": "code",
   "execution_count": 1,
   "metadata": {},
   "outputs": [],
   "source": [
    "import pandas as pd"
   ]
  },
  {
   "cell_type": "code",
   "execution_count": null,
   "metadata": {},
   "outputs": [],
   "source": [
    "# Load data\n",
    "file_path = \"raw_data/redlat.genes.chr.counts.hg38_multianno.tsv\"\n",
    "original_df = pd.read_csv(file_path, sep='\\t')\n",
    "\n",
    "# Filter data we care about \n",
    "df = original_df[\n",
    "    (original_df[\"Func.refGene\"] == \"exonic\") & \n",
    "    (original_df[\"ExonicFunc.refGene\"] == \"nonsynonymous SNV\")\n",
    "]"
   ]
  },
  {
   "cell_type": "code",
   "execution_count": 3,
   "metadata": {},
   "outputs": [
    {
     "data": {
      "text/plain": [
       "45       TARDBP:NM_007375:exon2:c.G149C:p.C50S\n",
       "323     TARDBP:NM_007375:exon6:c.A776G:p.N259S\n",
       "324     TARDBP:NM_007375:exon6:c.G881T:p.G294V\n",
       "326    TARDBP:NM_007375:exon6:c.A1147G:p.I383V\n",
       "327    TARDBP:NM_007375:exon6:c.G1154T:p.W385L\n",
       "Name: AAChange.refGene, dtype: object"
      ]
     },
     "execution_count": 3,
     "metadata": {},
     "output_type": "execute_result"
    }
   ],
   "source": [
    "# Verify filtering worked\n",
    "df[\"AAChange.refGene\"].head()"
   ]
  },
  {
   "cell_type": "code",
   "execution_count": 4,
   "metadata": {},
   "outputs": [],
   "source": [
    "desired_isoforms = {\n",
    "    \"PSEN1\": \"NM_000021\",\n",
    "    \"PSEN2\": \"NM_000447\",\n",
    "    \"TARDBP\": \"NM_007375\",\n",
    "    \"MAPT\": \"NM_005910\"\n",
    "}"
   ]
  },
  {
   "cell_type": "code",
   "execution_count": 5,
   "metadata": {},
   "outputs": [
    {
     "name": "stderr",
     "output_type": "stream",
     "text": [
      "C:\\Users\\dylan\\AppData\\Local\\Temp\\ipykernel_11672\\2205066973.py:29: SettingWithCopyWarning: \n",
      "A value is trying to be set on a copy of a slice from a DataFrame.\n",
      "Try using .loc[row_indexer,col_indexer] = value instead\n",
      "\n",
      "See the caveats in the documentation: https://pandas.pydata.org/pandas-docs/stable/user_guide/indexing.html#returning-a-view-versus-a-copy\n",
      "  df[[\"variant\", \"AA\", \"case\", \"control\", \"exon\"]] = df.apply(extract_variant, axis=1)\n",
      "C:\\Users\\dylan\\AppData\\Local\\Temp\\ipykernel_11672\\2205066973.py:29: SettingWithCopyWarning: \n",
      "A value is trying to be set on a copy of a slice from a DataFrame.\n",
      "Try using .loc[row_indexer,col_indexer] = value instead\n",
      "\n",
      "See the caveats in the documentation: https://pandas.pydata.org/pandas-docs/stable/user_guide/indexing.html#returning-a-view-versus-a-copy\n",
      "  df[[\"variant\", \"AA\", \"case\", \"control\", \"exon\"]] = df.apply(extract_variant, axis=1)\n",
      "C:\\Users\\dylan\\AppData\\Local\\Temp\\ipykernel_11672\\2205066973.py:29: SettingWithCopyWarning: \n",
      "A value is trying to be set on a copy of a slice from a DataFrame.\n",
      "Try using .loc[row_indexer,col_indexer] = value instead\n",
      "\n",
      "See the caveats in the documentation: https://pandas.pydata.org/pandas-docs/stable/user_guide/indexing.html#returning-a-view-versus-a-copy\n",
      "  df[[\"variant\", \"AA\", \"case\", \"control\", \"exon\"]] = df.apply(extract_variant, axis=1)\n",
      "C:\\Users\\dylan\\AppData\\Local\\Temp\\ipykernel_11672\\2205066973.py:29: SettingWithCopyWarning: \n",
      "A value is trying to be set on a copy of a slice from a DataFrame.\n",
      "Try using .loc[row_indexer,col_indexer] = value instead\n",
      "\n",
      "See the caveats in the documentation: https://pandas.pydata.org/pandas-docs/stable/user_guide/indexing.html#returning-a-view-versus-a-copy\n",
      "  df[[\"variant\", \"AA\", \"case\", \"control\", \"exon\"]] = df.apply(extract_variant, axis=1)\n",
      "C:\\Users\\dylan\\AppData\\Local\\Temp\\ipykernel_11672\\2205066973.py:29: SettingWithCopyWarning: \n",
      "A value is trying to be set on a copy of a slice from a DataFrame.\n",
      "Try using .loc[row_indexer,col_indexer] = value instead\n",
      "\n",
      "See the caveats in the documentation: https://pandas.pydata.org/pandas-docs/stable/user_guide/indexing.html#returning-a-view-versus-a-copy\n",
      "  df[[\"variant\", \"AA\", \"case\", \"control\", \"exon\"]] = df.apply(extract_variant, axis=1)\n"
     ]
    }
   ],
   "source": [
    "# Let's parse all the rows and select the correct variant name\n",
    "# It will be in the AAChange.refGene column, but there is a lot of fields to parse\n",
    "\n",
    "def extract_variant(row):\n",
    "    isoforms = row[\"AAChange.refGene\"].split(\",\")\n",
    "    all_affected = row[\"All_affected\"]\n",
    "    all_unaffected = row[\"All_unaffected\"]\n",
    "\n",
    "    case_cnt = int(all_affected.split(\"/\")[1])\n",
    "    control_cnt = int(all_unaffected.split(\"/\")[1])\n",
    "    \n",
    "    for isoform in isoforms:\n",
    "        parts = isoform.split(\":\")\n",
    "        if len(parts) < 4:\n",
    "            continue  # Skip malformed entries\n",
    "\n",
    "        gene_name, isoform_id, exon = parts[0], parts[1], parts[2]\n",
    "\n",
    "        if gene_name not in desired_isoforms:\n",
    "            continue  # Skip unknown gene names\n",
    "\n",
    "        if desired_isoforms[gene_name] == isoform_id:\n",
    "            aavariant = parts[-1][2:]  # Extract amino acid variant\n",
    "            aa_number = aavariant[1:-1] if len(aavariant) > 2 else \"\"  # Extract the inner number\n",
    "            return pd.Series([aavariant, aa_number, case_cnt, control_cnt, exon])\n",
    "\n",
    "    return pd.Series([None, None, 0, 0, \"\"])  # No match found\n",
    "\n",
    "df[[\"variant\", \"AA\", \"case\", \"control\", \"exon\"]] = df.apply(extract_variant, axis=1)\n",
    "df = df.dropna(subset=[\"AA\"])\n",
    "df[\"case\"] = df[\"case\"].astype(int)\n",
    "df[\"control\"] = df[\"control\"].astype(int)\n"
   ]
  },
  {
   "cell_type": "code",
   "execution_count": null,
   "metadata": {},
   "outputs": [
    {
     "name": "stdout",
     "output_type": "stream",
     "text": [
      "PSEN1\n",
      "PSEN2\n",
      "TARDBP\n",
      "MAPT\n"
     ]
    }
   ],
   "source": [
    "# Now export the selected columns\n",
    "for gene in desired_isoforms.keys():\n",
    "    print(gene)\n",
    "    filtered_df = df[df[\"Gene.refGene\"] == gene][[\"Gene.refGene\", \"AA\", \"variant\", \"case\", \"control\", \"exon\"]]\n",
    "    file_name = f\"data/{gene}_variants.txt\"\n",
    "    filtered_df.to_csv(file_name, index=False, sep='\\t')"
   ]
  },
  {
   "cell_type": "code",
   "execution_count": null,
   "metadata": {},
   "outputs": [],
   "source": []
  }
 ],
 "metadata": {
  "kernelspec": {
   "display_name": ".venv",
   "language": "python",
   "name": "python3"
  },
  "language_info": {
   "codemirror_mode": {
    "name": "ipython",
    "version": 3
   },
   "file_extension": ".py",
   "mimetype": "text/x-python",
   "name": "python",
   "nbconvert_exporter": "python",
   "pygments_lexer": "ipython3",
   "version": "3.13.0"
  }
 },
 "nbformat": 4,
 "nbformat_minor": 2
}
